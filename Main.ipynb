{
 "cells": [
  {
   "cell_type": "code",
   "execution_count": 147,
   "metadata": {},
   "outputs": [
    {
     "name": "stdout",
     "output_type": "stream",
     "text": [
      "Requirement already satisfied: santorinai in c:\\users\\courn\\appdata\\local\\r-miniconda\\lib\\site-packages (1.2.6)\n",
      "Requirement already satisfied: pysimplegui in c:\\users\\courn\\appdata\\local\\r-miniconda\\lib\\site-packages (from santorinai) (4.60.4)\n"
     ]
    },
    {
     "name": "stderr",
     "output_type": "stream",
     "text": [
      "\n",
      "[notice] A new release of pip is available: 23.0.1 -> 23.1.2\n",
      "[notice] To update, run: python.exe -m pip install --upgrade pip\n"
     ]
    }
   ],
   "source": [
    "!pip install santorinai"
   ]
  },
  {
   "cell_type": "code",
   "execution_count": 1,
   "metadata": {},
   "outputs": [],
   "source": [
    "from santorinai.tester import Tester\n",
    "from santorinai.player_examples.random_player import RandomPlayer\n",
    "from santorinai.player_examples.first_choice_player import FirstChoicePlayer\n",
    "from TktBot import TktBot"
   ]
  },
  {
   "cell_type": "code",
   "execution_count": 3,
   "metadata": {},
   "outputs": [
    {
     "name": "stdout",
     "output_type": "stream",
     "text": [
      "Game 1\n",
      "Player Firsty First is placing pawn 1\n",
      "   Pawn placed at position (0, 0)\n",
      "Player Tkt bot is placing pawn 2\n",
      "   Pawn placed at position (2, 2)\n",
      "Player Firsty First is placing pawn 3\n",
      "   Pawn placed at position (0, 1)\n",
      "Player Tkt bot is placing pawn 4\n",
      "   Pawn placed at position (3, 2)\n",
      "\n",
      "Playing the game\n",
      "   Current pawn: pawn 1 of player 1 at position (0, 0)\n",
      "Player Tkt bot is moving pawn 1\n",
      "   Pawn moved at position (1, 0) and built at position (0, 0)\n",
      "\n",
      "_0 _0 _0 _0 _0 \n",
      "_0 _0 _0 _0 _0 \n",
      "_0 _0 20 40 _0 \n",
      "30 _0 _0 _0 _0 \n",
      "_1 10 _0 _0 _0 \n",
      "\n",
      "   Current pawn: pawn 2 of player 2 at position (2, 2)\n",
      "Player Firsty First is moving pawn 2\n",
      "   Pawn moved at position (1, 1) and built at position (0, 0)\n",
      "\n",
      "_0 _0 _0 _0 _0 \n",
      "_0 _0 _0 _0 _0 \n",
      "_0 _0 _0 40 _0 \n",
      "30 20 _0 _0 _0 \n",
      "_2 10 _0 _0 _0 \n",
      "\n",
      "   Current pawn: pawn 3 of player 1 at position (0, 1)\n",
      "Player Tkt bot is moving pawn 3\n"
     ]
    },
    {
     "ename": "KeyboardInterrupt",
     "evalue": "",
     "output_type": "error",
     "traceback": [
      "\u001b[1;31m---------------------------------------------------------------------------\u001b[0m",
      "\u001b[1;31mKeyboardInterrupt\u001b[0m                         Traceback (most recent call last)",
      "Cell \u001b[1;32mIn[3], line 8\u001b[0m\n\u001b[0;32m      5\u001b[0m p1 \u001b[39m=\u001b[39m TktBot()\n\u001b[0;32m      6\u001b[0m p2 \u001b[39m=\u001b[39m FirstChoicePlayer()\n\u001b[1;32m----> 8\u001b[0m tester\u001b[39m.\u001b[39;49mplay_1v1(p1, p2, nb_games \u001b[39m=\u001b[39;49m \u001b[39m5\u001b[39;49m)\n",
      "File \u001b[1;32mc:\\Users\\courn\\AppData\\Local\\R-MINI~1\\lib\\site-packages\\santorinai\\tester.py:107\u001b[0m, in \u001b[0;36mTester.play_1v1\u001b[1;34m(self, player1, player2, nb_games)\u001b[0m\n\u001b[0;32m    103\u001b[0m player \u001b[39m=\u001b[39m players[current_pawn\u001b[39m.\u001b[39mplayer_number \u001b[39m-\u001b[39m \u001b[39m1\u001b[39m]\n\u001b[0;32m    104\u001b[0m \u001b[39mself\u001b[39m\u001b[39m.\u001b[39mdisplay_message(\n\u001b[0;32m    105\u001b[0m     \u001b[39mf\u001b[39m\u001b[39m\"\u001b[39m\u001b[39mPlayer \u001b[39m\u001b[39m{\u001b[39;00mplayer\u001b[39m.\u001b[39mname()\u001b[39m}\u001b[39;00m\u001b[39m is moving pawn \u001b[39m\u001b[39m{\u001b[39;00mcurrent_pawn\u001b[39m.\u001b[39mnumber\u001b[39m}\u001b[39;00m\u001b[39m\"\u001b[39m, \u001b[39m2\u001b[39m\n\u001b[0;32m    106\u001b[0m )\n\u001b[1;32m--> 107\u001b[0m move_choice, build_choice \u001b[39m=\u001b[39m player\u001b[39m.\u001b[39;49mplay_move(\n\u001b[0;32m    108\u001b[0m     board_copy, current_pawn_copy\n\u001b[0;32m    109\u001b[0m )\n\u001b[0;32m    111\u001b[0m \u001b[39m# Move the pawn\u001b[39;00m\n\u001b[0;32m    112\u001b[0m success, reason \u001b[39m=\u001b[39m board\u001b[39m.\u001b[39mplay_move(move_choice, build_choice)\n",
      "File \u001b[1;32md:\\OneDrive\\OneDrive - De Vinci\\source\\Python\\SantorinAI\\TktBot.py:159\u001b[0m, in \u001b[0;36mTktBot.play_move\u001b[1;34m(self, board, pawn)\u001b[0m\n\u001b[0;32m    158\u001b[0m \u001b[39mdef\u001b[39;00m \u001b[39mplay_move\u001b[39m(\u001b[39mself\u001b[39m, board, pawn):\n\u001b[1;32m--> 159\u001b[0m     pos, construct, i \u001b[39m=\u001b[39m getBestMove(\n\u001b[0;32m    160\u001b[0m         board\u001b[39m.\u001b[39;49mboard, [player\u001b[39m.\u001b[39;49mpos \u001b[39mfor\u001b[39;49;00m player \u001b[39min\u001b[39;49;00m board\u001b[39m.\u001b[39;49mpawns], pawn\u001b[39m.\u001b[39;49mnumber \u001b[39m-\u001b[39;49m \u001b[39m1\u001b[39;49m, \u001b[39m2\u001b[39;49m, \u001b[39m500\u001b[39;49m)\n\u001b[0;32m    161\u001b[0m     \u001b[39mreturn\u001b[39;00m pos, construct\n",
      "File \u001b[1;32md:\\OneDrive\\OneDrive - De Vinci\\source\\Python\\SantorinAI\\TktBot.py:131\u001b[0m, in \u001b[0;36mgetBestMove\u001b[1;34m(board, players, playerAct, depth, n)\u001b[0m\n\u001b[0;32m    129\u001b[0m newBoard \u001b[39m=\u001b[39m [row[:] \u001b[39mfor\u001b[39;00m row \u001b[39min\u001b[39;00m board]\n\u001b[0;32m    130\u001b[0m newBoard[construct[\u001b[39m0\u001b[39m]][construct[\u001b[39m1\u001b[39m]] \u001b[39m+\u001b[39m\u001b[39m=\u001b[39m \u001b[39m1\u001b[39m\n\u001b[1;32m--> 131\u001b[0m value \u001b[39m=\u001b[39m minimax(newBoard, newPlayers, (playerAct\u001b[39m+\u001b[39;49m\u001b[39m1\u001b[39;49m) \u001b[39m%\u001b[39;49m\n\u001b[0;32m    132\u001b[0m                 \u001b[39m4\u001b[39;49m, depth\u001b[39m-\u001b[39;49m\u001b[39m1\u001b[39;49m, bestValue, \u001b[39m1\u001b[39;49m, \u001b[39mFalse\u001b[39;49;00m, n)\n\u001b[0;32m    133\u001b[0m \u001b[39mif\u001b[39;00m value \u001b[39m>\u001b[39m bestValue:\n\u001b[0;32m    134\u001b[0m     bestValue \u001b[39m=\u001b[39m value\n",
      "File \u001b[1;32md:\\OneDrive\\OneDrive - De Vinci\\source\\Python\\SantorinAI\\TktBot.py:100\u001b[0m, in \u001b[0;36mminimax\u001b[1;34m(board, players, playerAct, depth, alpha, beta, maximizingPlayer, n)\u001b[0m\n\u001b[0;32m     98\u001b[0m newBoard \u001b[39m=\u001b[39m [row[:] \u001b[39mfor\u001b[39;00m row \u001b[39min\u001b[39;00m board]\n\u001b[0;32m     99\u001b[0m newBoard[construct[\u001b[39m0\u001b[39m]][construct[\u001b[39m1\u001b[39m]] \u001b[39m+\u001b[39m\u001b[39m=\u001b[39m \u001b[39m1\u001b[39m\n\u001b[1;32m--> 100\u001b[0m value \u001b[39m=\u001b[39m minimax(newBoard, newPlayers, (playerAct\u001b[39m+\u001b[39;49m\u001b[39m1\u001b[39;49m) \u001b[39m%\u001b[39;49m\n\u001b[0;32m    101\u001b[0m                 \u001b[39m4\u001b[39;49m, depth\u001b[39m-\u001b[39;49m\u001b[39m1\u001b[39;49m, alpha, beta, \u001b[39mnot\u001b[39;49;00m maximizingPlayer, n)\n\u001b[0;32m    102\u001b[0m \u001b[39mif\u001b[39;00m maximizingPlayer:\n\u001b[0;32m    103\u001b[0m     alpha \u001b[39m=\u001b[39m \u001b[39mmax\u001b[39m(alpha, value)\n",
      "File \u001b[1;32md:\\OneDrive\\OneDrive - De Vinci\\source\\Python\\SantorinAI\\TktBot.py:90\u001b[0m, in \u001b[0;36mminimax\u001b[1;34m(board, players, playerAct, depth, alpha, beta, maximizingPlayer, n)\u001b[0m\n\u001b[0;32m     88\u001b[0m     \u001b[39mreturn\u001b[39;00m \u001b[39m-\u001b[39m\u001b[39m1\u001b[39m \u001b[39mif\u001b[39;00m maximizingPlayer \u001b[39melse\u001b[39;00m \u001b[39m1\u001b[39m\n\u001b[0;32m     89\u001b[0m \u001b[39mif\u001b[39;00m depth \u001b[39m==\u001b[39m \u001b[39m0\u001b[39m:\n\u001b[1;32m---> 90\u001b[0m     \u001b[39mreturn\u001b[39;00m simulate(n, board, players, playerAct, maximizingPlayer)\n\u001b[0;32m     91\u001b[0m isBreak \u001b[39m=\u001b[39m \u001b[39mFalse\u001b[39;00m\n\u001b[0;32m     92\u001b[0m \u001b[39mfor\u001b[39;00m move \u001b[39min\u001b[39;00m movesPlayer(board, players, \u001b[39m*\u001b[39mplayers[playerAct]):\n",
      "File \u001b[1;32md:\\OneDrive\\OneDrive - De Vinci\\source\\Python\\SantorinAI\\TktBot.py:71\u001b[0m, in \u001b[0;36msimulate\u001b[1;34m(nbGames, myboard, myplayers, myplayerAct, maximizingPlayer)\u001b[0m\n\u001b[0;32m     69\u001b[0m board \u001b[39m=\u001b[39m myboard[:]\n\u001b[0;32m     70\u001b[0m players \u001b[39m=\u001b[39m myplayers[:]\n\u001b[1;32m---> 71\u001b[0m rd \u001b[39m=\u001b[39m randomWin([row[:] \u001b[39mfor\u001b[39;49;00m row \u001b[39min\u001b[39;49;00m board], players[:], myplayerAct)\n\u001b[0;32m     72\u001b[0m \u001b[39mif\u001b[39;00m rd \u001b[39m==\u001b[39m \u001b[39m-\u001b[39m\u001b[39m1\u001b[39m:\n\u001b[0;32m     73\u001b[0m     nbGames \u001b[39m-\u001b[39m\u001b[39m=\u001b[39m \u001b[39m1\u001b[39m\n",
      "File \u001b[1;32md:\\OneDrive\\OneDrive - De Vinci\\source\\Python\\SantorinAI\\TktBot.py:61\u001b[0m, in \u001b[0;36mrandomWin\u001b[1;34m(board, players, playerAct)\u001b[0m\n\u001b[0;32m     59\u001b[0m             construct \u001b[39m=\u001b[39m constructs[random\u001b[39m.\u001b[39mrandint(\u001b[39m0\u001b[39m, \u001b[39mlen\u001b[39m(constructs)\u001b[39m-\u001b[39m\u001b[39m1\u001b[39m)]\n\u001b[0;32m     60\u001b[0m             board[construct[\u001b[39m0\u001b[39m]][construct[\u001b[39m1\u001b[39m]] \u001b[39m+\u001b[39m\u001b[39m=\u001b[39m \u001b[39m1\u001b[39m\n\u001b[1;32m---> 61\u001b[0m \u001b[39mreturn\u001b[39;00m \u001b[39m-\u001b[39m\u001b[39m1\u001b[39m\n",
      "File \u001b[1;32mc:\\Users\\courn\\AppData\\Local\\R-MINI~1\\lib\\random.py:338\u001b[0m, in \u001b[0;36mRandom.randint\u001b[1;34m(self, a, b)\u001b[0m\n\u001b[0;32m    334\u001b[0m \u001b[39mdef\u001b[39;00m \u001b[39mrandint\u001b[39m(\u001b[39mself\u001b[39m, a, b):\n\u001b[0;32m    335\u001b[0m     \u001b[39m\"\"\"Return random integer in range [a, b], including both end points.\u001b[39;00m\n\u001b[0;32m    336\u001b[0m \u001b[39m    \"\"\"\u001b[39;00m\n\u001b[1;32m--> 338\u001b[0m     \u001b[39mreturn\u001b[39;00m \u001b[39mself\u001b[39;49m\u001b[39m.\u001b[39;49mrandrange(a, b\u001b[39m+\u001b[39;49m\u001b[39m1\u001b[39;49m)\n",
      "File \u001b[1;32mc:\\Users\\courn\\AppData\\Local\\R-MINI~1\\lib\\random.py:314\u001b[0m, in \u001b[0;36mRandom.randrange\u001b[1;34m(self, start, stop, step)\u001b[0m\n\u001b[0;32m    312\u001b[0m width \u001b[39m=\u001b[39m istop \u001b[39m-\u001b[39m istart\n\u001b[0;32m    313\u001b[0m \u001b[39mif\u001b[39;00m step \u001b[39m==\u001b[39m \u001b[39m1\u001b[39m \u001b[39mand\u001b[39;00m width \u001b[39m>\u001b[39m \u001b[39m0\u001b[39m:\n\u001b[1;32m--> 314\u001b[0m     \u001b[39mreturn\u001b[39;00m istart \u001b[39m+\u001b[39m \u001b[39mself\u001b[39;49m\u001b[39m.\u001b[39;49m_randbelow(width)\n\u001b[0;32m    315\u001b[0m \u001b[39mif\u001b[39;00m step \u001b[39m==\u001b[39m \u001b[39m1\u001b[39m:\n\u001b[0;32m    316\u001b[0m     \u001b[39mraise\u001b[39;00m \u001b[39mValueError\u001b[39;00m(\u001b[39m\"\u001b[39m\u001b[39mempty range for randrange() (\u001b[39m\u001b[39m%d\u001b[39;00m\u001b[39m, \u001b[39m\u001b[39m%d\u001b[39;00m\u001b[39m, \u001b[39m\u001b[39m%d\u001b[39;00m\u001b[39m)\u001b[39m\u001b[39m\"\u001b[39m \u001b[39m%\u001b[39m (istart, istop, width))\n",
      "\u001b[1;31mKeyboardInterrupt\u001b[0m: "
     ]
    }
   ],
   "source": [
    "tester = Tester()\n",
    "tester.delay_between_moves = 0\n",
    "tester.display_board = False\n",
    "\n",
    "p1 = TktBot()\n",
    "p2 = FirstChoicePlayer()\n",
    "\n",
    "tester.play_1v1(p1, p2, nb_games = 5)"
   ]
  }
 ],
 "metadata": {
  "kernelspec": {
   "display_name": "Python 3",
   "language": "python",
   "name": "python3"
  },
  "language_info": {
   "codemirror_mode": {
    "name": "ipython",
    "version": 3
   },
   "file_extension": ".py",
   "mimetype": "text/x-python",
   "name": "python",
   "nbconvert_exporter": "python",
   "pygments_lexer": "ipython3",
   "version": "3.9.12"
  },
  "orig_nbformat": 4
 },
 "nbformat": 4,
 "nbformat_minor": 2
}
